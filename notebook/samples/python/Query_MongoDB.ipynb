{
 "cells": [
  {
   "cell_type": "markdown",
   "metadata": {},
   "source": [
    "# Query MongoDB Database Collection\n",
    "\n",
    "This notebook demonstrates how to:\n",
    "\n",
    "* Connect to a MongoDB instance\n",
    "* List the databases for the instance\n",
    "* List the collections for a database\n",
    "* Query a database collection and convert the result to a `pandas.DataFrame`\n",
    "* Bind a DataFrame to an [jupyter-incubator/declarativewidgets](https://github.com/jupyter-incubator/declarativewidgets) `urth-viz-table` widget to display the results"
   ]
  },
  {
   "cell_type": "code",
   "execution_count": null,
   "metadata": {
    "collapsed": false
   },
   "outputs": [],
   "source": [
    "import pandas as pd\n",
    "from pymongo import MongoClient\n",
    "from bson.objectid import ObjectId\n",
    "from urth.widgets.widget_channels import channel"
   ]
  },
  {
   "cell_type": "markdown",
   "metadata": {},
   "source": [
    "Connect to a MongoDB instance."
   ]
  },
  {
   "cell_type": "code",
   "execution_count": null,
   "metadata": {
    "collapsed": true
   },
   "outputs": [],
   "source": [
    "client = MongoClient('192.168.99.100', 27017)"
   ]
  },
  {
   "cell_type": "markdown",
   "metadata": {},
   "source": [
    "List the databases in the instance."
   ]
  },
  {
   "cell_type": "code",
   "execution_count": null,
   "metadata": {
    "collapsed": false
   },
   "outputs": [],
   "source": [
    "client.database_names()"
   ]
  },
  {
   "cell_type": "markdown",
   "metadata": {},
   "source": [
    "Get a reference to a database."
   ]
  },
  {
   "cell_type": "code",
   "execution_count": null,
   "metadata": {
    "collapsed": true
   },
   "outputs": [],
   "source": [
    "db = client.demo"
   ]
  },
  {
   "cell_type": "markdown",
   "metadata": {},
   "source": [
    "List the collections in the database."
   ]
  },
  {
   "cell_type": "code",
   "execution_count": null,
   "metadata": {
    "collapsed": false
   },
   "outputs": [],
   "source": [
    "db.collection_names()"
   ]
  },
  {
   "cell_type": "markdown",
   "metadata": {},
   "source": [
    "Get a reference to a collection."
   ]
  },
  {
   "cell_type": "code",
   "execution_count": null,
   "metadata": {
    "collapsed": true
   },
   "outputs": [],
   "source": [
    "features = db.client_features"
   ]
  },
  {
   "cell_type": "markdown",
   "metadata": {},
   "source": [
    "Query collection."
   ]
  },
  {
   "cell_type": "code",
   "execution_count": null,
   "metadata": {
    "collapsed": true
   },
   "outputs": [],
   "source": [
    "def query_collection(limit=100):\n",
    "    cursor = customers.find({}).limit(limit)\n",
    "    df = pd.DataFrame(list(cursor))\n",
    "    # Remove the MongoDB _id column\n",
    "    del df['_id']\n",
    "    return df"
   ]
  },
  {
   "cell_type": "code",
   "execution_count": null,
   "metadata": {
    "collapsed": false
   },
   "outputs": [],
   "source": [
    "df = query_collection()"
   ]
  },
  {
   "cell_type": "code",
   "execution_count": null,
   "metadata": {
    "collapsed": false
   },
   "outputs": [],
   "source": [
    "df.head()"
   ]
  },
  {
   "cell_type": "markdown",
   "metadata": {},
   "source": [
    "Show a single record as dict."
   ]
  },
  {
   "cell_type": "code",
   "execution_count": null,
   "metadata": {
    "collapsed": false
   },
   "outputs": [],
   "source": [
    "df.iloc[0].to_dict()"
   ]
  },
  {
   "cell_type": "markdown",
   "metadata": {},
   "source": [
    "Bind the above function to a table widget."
   ]
  },
  {
   "cell_type": "code",
   "execution_count": null,
   "metadata": {
    "collapsed": false
   },
   "outputs": [],
   "source": [
    "%%html\n",
    "<link rel=\"import\" href=\"urth_components/urth-core-function/urth-core-function.html\">\n",
    "<link rel=\"import\" href=\"urth_components/urth-viz-table/urth-viz-table.html\" is=\"urth-core-import\">\n",
    "\n",
    "<template is=\"dom-bind\">\n",
    "    <urth-core-function id=\"fc\" ref=\"query_collection\" \n",
    "        arg-limit=\"{{ limit }}\" \n",
    "        result=\"{{ data }}\"></urth-core-function>\n",
    "\n",
    "    <div class=\"heading layout horizontal justified\">\n",
    "        <button onClick=\"fc.invoke()\">Run Query</button>\n",
    "    </div>\n",
    "\n",
    "    <template is=\"dom-if\" if=\"[[data]]\">\n",
    "        <urth-viz-table\n",
    "            datarows=\"{{ data.data }}\"\n",
    "            columns=\"{{ data.columns }}\"\n",
    "            selection=\"{{ selected }}\"\n",
    "            rowsVisible=10></urth-viz-table>\n",
    "    </template>\n",
    "</template>"
   ]
  },
  {
   "cell_type": "code",
   "execution_count": null,
   "metadata": {
    "collapsed": true
   },
   "outputs": [],
   "source": []
  }
 ],
 "metadata": {
  "kernelspec": {
   "display_name": "Python 3",
   "language": "python",
   "name": "python3"
  },
  "language_info": {
   "codemirror_mode": {
    "name": "ipython",
    "version": 3
   },
   "file_extension": ".py",
   "mimetype": "text/x-python",
   "name": "python",
   "nbconvert_exporter": "python",
   "pygments_lexer": "ipython3",
   "version": "3.5.1"
  }
 },
 "nbformat": 4,
 "nbformat_minor": 0
}
